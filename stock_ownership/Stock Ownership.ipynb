{
 "cells": [
  {
   "cell_type": "markdown",
   "id": "22286d35-10aa-4ff9-a060-a2f89a8573b0",
   "metadata": {},
   "source": [
    "### Retail Portfolio\n",
    "__Author__: Toby Limanto\n",
    "\n",
    "__Objective__: This notebook aims to analyse and visualise stock ownership in IDX per July 2024 based on stock ownership data that is collected from KSEI. https://www.ksei.co.id/archive_download/holding_composition/2022"
   ]
  },
  {
   "cell_type": "code",
   "execution_count": 1,
   "id": "121406be-2dc1-49a5-b816-1f2d5f3ca2dd",
   "metadata": {},
   "outputs": [],
   "source": [
    "import pandas as pd"
   ]
  },
  {
   "cell_type": "markdown",
   "id": "bc797cc7-8686-49af-bd51-4d39762680f0",
   "metadata": {},
   "source": [
    "__Data Preprocessing__\n",
    "\n",
    "Raw data that we get from KSEI can be seen as follows\n",
    "```\n",
    "Date|Code|Type|Sec. Num|Price|Local IS|Local CP|Local PF|Local IB|Local ID|Local MF|Local SC|Local FD|Local OT|Total|Foreign IS|Foreign CP|Foreign PF|Foreign IB|Foreign ID|Foreign MF|Foreign SC|Foreign FD|Foreign OT|Total\n",
    "31-JAN-2022|AALI|EQUITY|1924688333|9900|88378271|15415145|13569998|49700|112448683|31738850|1278471|4138321|5078427|272095866|2356073|8716936|12240314|18338820|1368197|38014142|27063174|886123|9709948|118693727\n",
    "```\n",
    "\n",
    "The file contains stock ownership data on a given month. If we are looking at the year 2022, we see 12 files for each month. We will be mostly concerned with the following fields:\n",
    "- Code: Stock ticker\n",
    "- Price: Closing stock price at end of month\n",
    "- Local ID: Number of shares owned by local retail investors"
   ]
  },
  {
   "cell_type": "code",
   "execution_count": 6,
   "id": "db48ff07-d38a-4ea7-b979-5d7612644b47",
   "metadata": {},
   "outputs": [],
   "source": [
    "# load the documents\n",
    "PREFIX = \"data-kepemilikan-saham/Balancepos\"\n",
    "date = \"20240731\"\n",
    "jul2024 = pd.read_csv(f\"{PREFIX}{date}.txt\", sep=\"|\")\n",
    "\n",
    "jul2024 = jul2024[jul2024[\"Type\"] == \"EQUITY\"]"
   ]
  },
  {
   "cell_type": "code",
   "execution_count": 7,
   "id": "9f94bf71-512f-4df0-b561-ac4069f112b9",
   "metadata": {},
   "outputs": [
    {
     "data": {
      "text/html": [
       "<div>\n",
       "<style scoped>\n",
       "    .dataframe tbody tr th:only-of-type {\n",
       "        vertical-align: middle;\n",
       "    }\n",
       "\n",
       "    .dataframe tbody tr th {\n",
       "        vertical-align: top;\n",
       "    }\n",
       "\n",
       "    .dataframe thead th {\n",
       "        text-align: right;\n",
       "    }\n",
       "</style>\n",
       "<table border=\"1\" class=\"dataframe\">\n",
       "  <thead>\n",
       "    <tr style=\"text-align: right;\">\n",
       "      <th></th>\n",
       "      <th>Date</th>\n",
       "      <th>Code</th>\n",
       "      <th>Type</th>\n",
       "      <th>Sec. Num</th>\n",
       "      <th>Price</th>\n",
       "      <th>Local IS</th>\n",
       "      <th>Local CP</th>\n",
       "      <th>Local PF</th>\n",
       "      <th>Local IB</th>\n",
       "      <th>Local ID</th>\n",
       "      <th>...</th>\n",
       "      <th>Foreign IS</th>\n",
       "      <th>Foreign CP</th>\n",
       "      <th>Foreign PF</th>\n",
       "      <th>Foreign IB</th>\n",
       "      <th>Foreign ID</th>\n",
       "      <th>Foreign MF</th>\n",
       "      <th>Foreign SC</th>\n",
       "      <th>Foreign FD</th>\n",
       "      <th>Foreign OT</th>\n",
       "      <th>Total.1</th>\n",
       "    </tr>\n",
       "  </thead>\n",
       "  <tbody>\n",
       "    <tr>\n",
       "      <th>0</th>\n",
       "      <td>31-JUL-2024</td>\n",
       "      <td>AALI</td>\n",
       "      <td>EQUITY</td>\n",
       "      <td>1.924688e+09</td>\n",
       "      <td>6025</td>\n",
       "      <td>64488127</td>\n",
       "      <td>30698824</td>\n",
       "      <td>6514312</td>\n",
       "      <td>49700</td>\n",
       "      <td>182757347</td>\n",
       "      <td>...</td>\n",
       "      <td>1626610</td>\n",
       "      <td>6084893</td>\n",
       "      <td>15322570</td>\n",
       "      <td>9023065</td>\n",
       "      <td>1699364</td>\n",
       "      <td>28119919</td>\n",
       "      <td>24390621</td>\n",
       "      <td>190500</td>\n",
       "      <td>7816149</td>\n",
       "      <td>94273691</td>\n",
       "    </tr>\n",
       "    <tr>\n",
       "      <th>1</th>\n",
       "      <td>31-JUL-2024</td>\n",
       "      <td>ABBA</td>\n",
       "      <td>EQUITY</td>\n",
       "      <td>3.935893e+09</td>\n",
       "      <td>30</td>\n",
       "      <td>71825500</td>\n",
       "      <td>2352371805</td>\n",
       "      <td>0</td>\n",
       "      <td>0</td>\n",
       "      <td>1009143877</td>\n",
       "      <td>...</td>\n",
       "      <td>0</td>\n",
       "      <td>20400</td>\n",
       "      <td>0</td>\n",
       "      <td>41020085</td>\n",
       "      <td>1940300</td>\n",
       "      <td>0</td>\n",
       "      <td>1333800</td>\n",
       "      <td>0</td>\n",
       "      <td>0</td>\n",
       "      <td>44314585</td>\n",
       "    </tr>\n",
       "    <tr>\n",
       "      <th>2</th>\n",
       "      <td>31-JUL-2024</td>\n",
       "      <td>ABDA</td>\n",
       "      <td>EQUITY</td>\n",
       "      <td>6.208067e+08</td>\n",
       "      <td>4500</td>\n",
       "      <td>0</td>\n",
       "      <td>40248</td>\n",
       "      <td>0</td>\n",
       "      <td>98</td>\n",
       "      <td>394382</td>\n",
       "      <td>...</td>\n",
       "      <td>588313138</td>\n",
       "      <td>0</td>\n",
       "      <td>0</td>\n",
       "      <td>3600</td>\n",
       "      <td>400</td>\n",
       "      <td>0</td>\n",
       "      <td>4400</td>\n",
       "      <td>0</td>\n",
       "      <td>30499400</td>\n",
       "      <td>618820938</td>\n",
       "    </tr>\n",
       "    <tr>\n",
       "      <th>3</th>\n",
       "      <td>31-JUL-2024</td>\n",
       "      <td>ABMM</td>\n",
       "      <td>EQUITY</td>\n",
       "      <td>2.753165e+09</td>\n",
       "      <td>3790</td>\n",
       "      <td>4862900</td>\n",
       "      <td>1481978433</td>\n",
       "      <td>0</td>\n",
       "      <td>12000</td>\n",
       "      <td>387388300</td>\n",
       "      <td>...</td>\n",
       "      <td>550000</td>\n",
       "      <td>825067436</td>\n",
       "      <td>8752441</td>\n",
       "      <td>4827288</td>\n",
       "      <td>358600</td>\n",
       "      <td>17270334</td>\n",
       "      <td>1681888</td>\n",
       "      <td>1792865</td>\n",
       "      <td>10605409</td>\n",
       "      <td>870906261</td>\n",
       "    </tr>\n",
       "    <tr>\n",
       "      <th>4</th>\n",
       "      <td>31-JUL-2024</td>\n",
       "      <td>ACES</td>\n",
       "      <td>EQUITY</td>\n",
       "      <td>1.715000e+10</td>\n",
       "      <td>800</td>\n",
       "      <td>724768015</td>\n",
       "      <td>10546239200</td>\n",
       "      <td>66622611</td>\n",
       "      <td>0</td>\n",
       "      <td>982577191</td>\n",
       "      <td>...</td>\n",
       "      <td>6247400</td>\n",
       "      <td>405418474</td>\n",
       "      <td>385441162</td>\n",
       "      <td>407431210</td>\n",
       "      <td>2080400</td>\n",
       "      <td>1515175304</td>\n",
       "      <td>140968439</td>\n",
       "      <td>41331600</td>\n",
       "      <td>1224159572</td>\n",
       "      <td>4128253561</td>\n",
       "    </tr>\n",
       "  </tbody>\n",
       "</table>\n",
       "<p>5 rows × 25 columns</p>\n",
       "</div>"
      ],
      "text/plain": [
       "          Date  Code    Type      Sec. Num  Price   Local IS     Local CP  \\\n",
       "0  31-JUL-2024  AALI  EQUITY  1.924688e+09   6025   64488127     30698824   \n",
       "1  31-JUL-2024  ABBA  EQUITY  3.935893e+09     30   71825500   2352371805   \n",
       "2  31-JUL-2024  ABDA  EQUITY  6.208067e+08   4500          0        40248   \n",
       "3  31-JUL-2024  ABMM  EQUITY  2.753165e+09   3790    4862900   1481978433   \n",
       "4  31-JUL-2024  ACES  EQUITY  1.715000e+10    800  724768015  10546239200   \n",
       "\n",
       "   Local PF  Local IB    Local ID  ...  Foreign IS  Foreign CP  Foreign PF  \\\n",
       "0   6514312     49700   182757347  ...     1626610     6084893    15322570   \n",
       "1         0         0  1009143877  ...           0       20400           0   \n",
       "2         0        98      394382  ...   588313138           0           0   \n",
       "3         0     12000   387388300  ...      550000   825067436     8752441   \n",
       "4  66622611         0   982577191  ...     6247400   405418474   385441162   \n",
       "\n",
       "   Foreign IB  Foreign ID  Foreign MF  Foreign SC  Foreign FD  Foreign OT  \\\n",
       "0     9023065     1699364    28119919    24390621      190500     7816149   \n",
       "1    41020085     1940300           0     1333800           0           0   \n",
       "2        3600         400           0        4400           0    30499400   \n",
       "3     4827288      358600    17270334     1681888     1792865    10605409   \n",
       "4   407431210     2080400  1515175304   140968439    41331600  1224159572   \n",
       "\n",
       "      Total.1  \n",
       "0    94273691  \n",
       "1    44314585  \n",
       "2   618820938  \n",
       "3   870906261  \n",
       "4  4128253561  \n",
       "\n",
       "[5 rows x 25 columns]"
      ]
     },
     "execution_count": 7,
     "metadata": {},
     "output_type": "execute_result"
    }
   ],
   "source": [
    "jul2024.head()"
   ]
  },
  {
   "cell_type": "code",
   "execution_count": 12,
   "id": "24e0f55f-3f78-43ea-b7f3-127a8a5dc843",
   "metadata": {},
   "outputs": [],
   "source": [
    "def amount_foreign(row):\n",
    "    return (row[\"Foreign IS\"] + row[\"Foreign CP\"] + row[\"Foreign PF\"] + row[\"Foreign IB\"] + row[\"Foreign ID\"] + row[\"Foreign MF\"] + row[\"Foreign SC\"] + row[\"Foreign FD\"] + row[\"Foreign OT\"]) * row[\"Price\"] / 1e9"
   ]
  },
  {
   "cell_type": "code",
   "execution_count": 17,
   "id": "a7c5ad9c-4852-43be-96c0-4a222690f4f8",
   "metadata": {},
   "outputs": [],
   "source": [
    "def add_amount(df, f):\n",
    "    df[\"Amount (Rp Bio)\"] = df.apply(f, axis=1)\n",
    "    return df.sort_values(by=\"Amount (Rp Bio)\", ascending=False)"
   ]
  },
  {
   "cell_type": "code",
   "execution_count": 18,
   "id": "213e4038-b66e-4f7a-9989-7a2945731285",
   "metadata": {},
   "outputs": [
    {
     "data": {
      "text/plain": [
       "3322047.0686457027"
      ]
     },
     "execution_count": 18,
     "metadata": {},
     "output_type": "execute_result"
    }
   ],
   "source": [
    "foreign_ = add_amount(jul2024, amount_foreign)[\"Amount (Rp Bio)\"].sum()"
   ]
  },
  {
   "cell_type": "code",
   "execution_count": 20,
   "id": "f527a24e-439d-47e9-8102-f9aff6f6259d",
   "metadata": {},
   "outputs": [],
   "source": [
    "def amount_local_retail(row):\n",
    "    return (row[\"Local ID\"]) * row[\"Price\"] / 1e9"
   ]
  },
  {
   "cell_type": "code",
   "execution_count": 31,
   "id": "dec56724-9650-48dd-a59a-9174b67ffafc",
   "metadata": {},
   "outputs": [],
   "source": [
    "local_retail_amount = add_amount(jul2024, amount_local_retail)[\"Amount (Rp Bio)\"].sum()"
   ]
  },
  {
   "cell_type": "code",
   "execution_count": 29,
   "id": "5eeccd9d-a04b-4d42-9264-fd8ce73ae836",
   "metadata": {},
   "outputs": [],
   "source": [
    "def amount_local_institution(row):\n",
    "    return (row[\"Local IS\"] + row[\"Local CP\"] + row[\"Local PF\"] + row[\"Local IB\"] + row[\"Local MF\"] + row[\"Local SC\"] + row[\"Local FD\"] + row[\"Local OT\"]) * row[\"Price\"] / 1e9"
   ]
  },
  {
   "cell_type": "code",
   "execution_count": 32,
   "id": "07aa59ce-2368-441d-abf7-67c34dd6cc17",
   "metadata": {},
   "outputs": [],
   "source": [
    "local_institution_amount = add_amount(jul2024, amount_local_institution)[\"Amount (Rp Bio)\"].sum()"
   ]
  },
  {
   "cell_type": "code",
   "execution_count": 33,
   "id": "db4ca5ca-e34b-44dc-b3e8-0b8efe0ef188",
   "metadata": {},
   "outputs": [
    {
     "data": {
      "text/plain": [
       "0.3680255279154295"
      ]
     },
     "execution_count": 33,
     "metadata": {},
     "output_type": "execute_result"
    }
   ],
   "source": [
    "local_retail_amount/local_institution_amount"
   ]
  },
  {
   "cell_type": "markdown",
   "id": "5c0b8239-1c90-494e-b872-935882ada21a",
   "metadata": {},
   "source": [
    "### Ratio local retail to local institution\n",
    "\n",
    "Local Retail: 1102502.4838178921\n",
    "\n",
    "Local Institution: 2995722.851245368\n",
    "\n",
    "Ratio: ~37%"
   ]
  },
  {
   "cell_type": "code",
   "execution_count": null,
   "id": "3a841a77-79e7-4f5e-89a6-957e1fc6e2b8",
   "metadata": {},
   "outputs": [],
   "source": []
  }
 ],
 "metadata": {
  "kernelspec": {
   "display_name": "Python 3 (ipykernel)",
   "language": "python",
   "name": "python3"
  },
  "language_info": {
   "codemirror_mode": {
    "name": "ipython",
    "version": 3
   },
   "file_extension": ".py",
   "mimetype": "text/x-python",
   "name": "python",
   "nbconvert_exporter": "python",
   "pygments_lexer": "ipython3",
   "version": "3.11.6"
  }
 },
 "nbformat": 4,
 "nbformat_minor": 5
}
