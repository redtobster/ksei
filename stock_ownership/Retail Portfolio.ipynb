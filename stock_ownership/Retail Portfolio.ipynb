{
 "cells": [
  {
   "cell_type": "markdown",
   "id": "22286d35-10aa-4ff9-a060-a2f89a8573b0",
   "metadata": {},
   "source": [
    "### Retail Portfolio\n",
    "__Author__: Toby Limanto\n",
    "\n",
    "__Objective__: This notebook aims to analyse and visualise local retail portfolio condition in 2022 based on stock ownership data that is collected from KSEI. https://www.ksei.co.id/archive_download/holding_composition/2022"
   ]
  },
  {
   "cell_type": "code",
   "execution_count": 3,
   "id": "121406be-2dc1-49a5-b816-1f2d5f3ca2dd",
   "metadata": {},
   "outputs": [],
   "source": [
    "import pandas as pd"
   ]
  },
  {
   "cell_type": "markdown",
   "id": "bc797cc7-8686-49af-bd51-4d39762680f0",
   "metadata": {},
   "source": [
    "__Data Preprocessing__\n",
    "\n",
    "Raw data that we get from KSEI can be seen as follows\n",
    "```\n",
    "Date|Code|Type|Sec. Num|Price|Local IS|Local CP|Local PF|Local IB|Local ID|Local MF|Local SC|Local FD|Local OT|Total|Foreign IS|Foreign CP|Foreign PF|Foreign IB|Foreign ID|Foreign MF|Foreign SC|Foreign FD|Foreign OT|Total\n",
    "31-JAN-2022|AALI|EQUITY|1924688333|9900|88378271|15415145|13569998|49700|112448683|31738850|1278471|4138321|5078427|272095866|2356073|8716936|12240314|18338820|1368197|38014142|27063174|886123|9709948|118693727\n",
    "```\n",
    "\n",
    "The file contains stock ownership data on a given month. If we are looking at the year 2022, we see 12 files for each month. We will be mostly concerned with the following fields:\n",
    "- Code: Stock ticker\n",
    "- Price: Closing stock price at end of month\n",
    "- Local ID: Number of shares owned by local retail investors"
   ]
  },
  {
   "cell_type": "code",
   "execution_count": 141,
   "id": "db48ff07-d38a-4ea7-b979-5d7612644b47",
   "metadata": {},
   "outputs": [],
   "source": [
    "# load the documents\n",
    "PREFIX = \"data-kepemilikan-saham/Balancepos\"\n",
    "date = \"20210226\"\n",
    "feb2021 = pd.read_csv(f\"{PREFIX}{date}.txt\", sep=\"|\")\n",
    "date = \"20210331\"\n",
    "mar2021 = pd.read_csv(f\"{PREFIX}{date}.txt\", sep=\"|\")\n",
    "date = \"20210430\"\n",
    "apr2021 = pd.read_csv(f\"{PREFIX}{date}.txt\", sep=\"|\")\n",
    "date = \"20210531\"\n",
    "may2021 = pd.read_csv(f\"{PREFIX}{date}.txt\", sep=\"|\")\n",
    "date = \"20210630\"\n",
    "jun2021 = pd.read_csv(f\"{PREFIX}{date}.txt\", sep=\"|\")\n",
    "date = \"20210730\"\n",
    "jul2021 = pd.read_csv(f\"{PREFIX}{date}.txt\", sep=\"|\")\n",
    "date = \"20210831\"\n",
    "aug2021 = pd.read_csv(f\"{PREFIX}{date}.txt\", sep=\"|\")\n",
    "date = \"20210930\"\n",
    "sep2021 = pd.read_csv(f\"{PREFIX}{date}.txt\", sep=\"|\")\n",
    "date = \"20211029\"\n",
    "oct2021 = pd.read_csv(f\"{PREFIX}{date}.txt\", sep=\"|\")\n",
    "date = \"20211130\"\n",
    "nov2021 = pd.read_csv(f\"{PREFIX}{date}.txt\", sep=\"|\")\n",
    "date = \"20211230\"\n",
    "dec2021 = pd.read_csv(f\"{PREFIX}{date}.txt\", sep=\"|\")\n",
    "date = \"20220131\"\n",
    "jan2022 = pd.read_csv(f\"{PREFIX}{date}.txt\", sep=\"|\")\n",
    "date = \"20220225\"\n",
    "feb2022 = pd.read_csv(f\"{PREFIX}{date}.txt\", sep=\"|\")\n",
    "date = \"20220331\"\n",
    "mar2022 = pd.read_csv(f\"{PREFIX}{date}.txt\", sep=\"|\")\n",
    "date = \"20220428\"\n",
    "apr2022 = pd.read_csv(f\"{PREFIX}{date}.txt\", sep=\"|\")\n",
    "date = \"20220531\"\n",
    "may2022 = pd.read_csv(f\"{PREFIX}{date}.txt\", sep=\"|\")\n",
    "date = \"20220630\"\n",
    "jun2022 = pd.read_csv(f\"{PREFIX}{date}.txt\", sep=\"|\")\n",
    "date = \"20220729\"\n",
    "jul2022 = pd.read_csv(f\"{PREFIX}{date}.txt\", sep=\"|\")\n",
    "date = \"20220831\"\n",
    "aug2022 = pd.read_csv(f\"{PREFIX}{date}.txt\", sep=\"|\")\n",
    "date = \"20220930\"\n",
    "sep2022 = pd.read_csv(f\"{PREFIX}{date}.txt\", sep=\"|\")\n",
    "date = \"20221031\"\n",
    "oct2022 = pd.read_csv(f\"{PREFIX}{date}.txt\", sep=\"|\")\n",
    "date = \"20221130\"\n",
    "nov2022 = pd.read_csv(f\"{PREFIX}{date}.txt\", sep=\"|\")\n",
    "date = \"20221230\"\n",
    "dec2022 = pd.read_csv(f\"{PREFIX}{date}.txt\", sep=\"|\")\n",
    "\n",
    "\n",
    "\n",
    "\n",
    "# we are only concerned with equity asse\n",
    "feb2021 = feb2021[feb2021[\"Type\"] == \"EQUITY\"]\n",
    "mar2021 = mar2021[mar2021[\"Type\"] == \"EQUITY\"]\n",
    "apr2021 = apr2021[apr2021[\"Type\"] == \"EQUITY\"]\n",
    "may2021 = may2021[may2021[\"Type\"] == \"EQUITY\"]\n",
    "jun2021 = jun2021[jun2021[\"Type\"] == \"EQUITY\"]\n",
    "jul2021 = jul2021[jul2021[\"Type\"] == \"EQUITY\"]\n",
    "aug2021 = aug2021[aug2021[\"Type\"] == \"EQUITY\"]\n",
    "sep2021 = sep2021[sep2021[\"Type\"] == \"EQUITY\"]\n",
    "oct2021 = oct2021[oct2021[\"Type\"] == \"EQUITY\"]\n",
    "nov2021 = nov2021[nov2021[\"Type\"] == \"EQUITY\"]\n",
    "dec2021 = dec2021[dec2021[\"Type\"] == \"EQUITY\"]\n",
    "\n",
    "jan2022 = jan2022[jan2022[\"Type\"] == \"EQUITY\"]\n",
    "feb2022 = feb2022[feb2022[\"Type\"] == \"EQUITY\"]\n",
    "mar2022 = mar2022[mar2022[\"Type\"] == \"EQUITY\"]\n",
    "apr2022 = apr2022[apr2022[\"Type\"] == \"EQUITY\"]\n",
    "may2022 = may2022[may2022[\"Type\"] == \"EQUITY\"]\n",
    "jun2022 = jun2022[jun2022[\"Type\"] == \"EQUITY\"]\n",
    "jul2022 = jul2022[jul2022[\"Type\"] == \"EQUITY\"]\n",
    "aug2022 = aug2022[aug2022[\"Type\"] == \"EQUITY\"]\n",
    "sep2022 = sep2022[sep2022[\"Type\"] == \"EQUITY\"]\n",
    "oct2022 = oct2022[oct2022[\"Type\"] == \"EQUITY\"]\n",
    "nov2022 = nov2022[nov2022[\"Type\"] == \"EQUITY\"]\n",
    "dec2022 = dec2022[dec2022[\"Type\"] == \"EQUITY\"]"
   ]
  },
  {
   "cell_type": "code",
   "execution_count": 142,
   "id": "24e0f55f-3f78-43ea-b7f3-127a8a5dc843",
   "metadata": {},
   "outputs": [],
   "source": [
    "def amount(row):\n",
    "    return row[\"Price\"] * row[\"Local ID\"] / 1e9"
   ]
  },
  {
   "cell_type": "code",
   "execution_count": 143,
   "id": "a7c5ad9c-4852-43be-96c0-4a222690f4f8",
   "metadata": {},
   "outputs": [],
   "source": [
    "def add_amount(df):\n",
    "    df[\"Amount (Rp Bio)\"] = df.apply(amount, axis=1)\n",
    "    return df.sort_values(by=\"Amount (Rp Bio)\", ascending=False)[[\"Code\", \"Price\", \"Local ID\", \"Amount (Rp Bio)\"]]"
   ]
  },
  {
   "cell_type": "code",
   "execution_count": 144,
   "id": "78df57b0-0e0d-492d-b2b4-889e7e5632c9",
   "metadata": {},
   "outputs": [
    {
     "data": {
      "text/html": [
       "<div>\n",
       "<style scoped>\n",
       "    .dataframe tbody tr th:only-of-type {\n",
       "        vertical-align: middle;\n",
       "    }\n",
       "\n",
       "    .dataframe tbody tr th {\n",
       "        vertical-align: top;\n",
       "    }\n",
       "\n",
       "    .dataframe thead th {\n",
       "        text-align: right;\n",
       "    }\n",
       "</style>\n",
       "<table border=\"1\" class=\"dataframe\">\n",
       "  <thead>\n",
       "    <tr style=\"text-align: right;\">\n",
       "      <th></th>\n",
       "      <th>Code</th>\n",
       "      <th>Price</th>\n",
       "      <th>Local ID</th>\n",
       "      <th>Amount (Rp Bio)</th>\n",
       "    </tr>\n",
       "  </thead>\n",
       "  <tbody>\n",
       "    <tr>\n",
       "      <th>236</th>\n",
       "      <td>EMTK</td>\n",
       "      <td>2110</td>\n",
       "      <td>36203024470</td>\n",
       "      <td>76388.381632</td>\n",
       "    </tr>\n",
       "    <tr>\n",
       "      <th>154</th>\n",
       "      <td>BYAN</td>\n",
       "      <td>13500</td>\n",
       "      <td>2223123219</td>\n",
       "      <td>30012.163456</td>\n",
       "    </tr>\n",
       "    <tr>\n",
       "      <th>137</th>\n",
       "      <td>BRPT</td>\n",
       "      <td>1100</td>\n",
       "      <td>26330894527</td>\n",
       "      <td>28963.983980</td>\n",
       "    </tr>\n",
       "    <tr>\n",
       "      <th>75</th>\n",
       "      <td>BBCA</td>\n",
       "      <td>33550</td>\n",
       "      <td>803273661</td>\n",
       "      <td>26949.831327</td>\n",
       "    </tr>\n",
       "    <tr>\n",
       "      <th>197</th>\n",
       "      <td>DCII</td>\n",
       "      <td>12225</td>\n",
       "      <td>2027627100</td>\n",
       "      <td>24787.741298</td>\n",
       "    </tr>\n",
       "    <tr>\n",
       "      <th>215</th>\n",
       "      <td>DNET</td>\n",
       "      <td>3210</td>\n",
       "      <td>3605459131</td>\n",
       "      <td>11573.523811</td>\n",
       "    </tr>\n",
       "    <tr>\n",
       "      <th>703</th>\n",
       "      <td>TPIA</td>\n",
       "      <td>9750</td>\n",
       "      <td>1059064541</td>\n",
       "      <td>10325.879275</td>\n",
       "    </tr>\n",
       "    <tr>\n",
       "      <th>35</th>\n",
       "      <td>ANTM</td>\n",
       "      <td>2840</td>\n",
       "      <td>3368943516</td>\n",
       "      <td>9567.799585</td>\n",
       "    </tr>\n",
       "    <tr>\n",
       "      <th>447</th>\n",
       "      <td>MDKA</td>\n",
       "      <td>2830</td>\n",
       "      <td>3322535564</td>\n",
       "      <td>9402.775646</td>\n",
       "    </tr>\n",
       "    <tr>\n",
       "      <th>49</th>\n",
       "      <td>ARTO</td>\n",
       "      <td>10000</td>\n",
       "      <td>914509585</td>\n",
       "      <td>9145.095850</td>\n",
       "    </tr>\n",
       "  </tbody>\n",
       "</table>\n",
       "</div>"
      ],
      "text/plain": [
       "     Code  Price     Local ID  Amount (Rp Bio)\n",
       "236  EMTK   2110  36203024470     76388.381632\n",
       "154  BYAN  13500   2223123219     30012.163456\n",
       "137  BRPT   1100  26330894527     28963.983980\n",
       "75   BBCA  33550    803273661     26949.831327\n",
       "197  DCII  12225   2027627100     24787.741298\n",
       "215  DNET   3210   3605459131     11573.523811\n",
       "703  TPIA   9750   1059064541     10325.879275\n",
       "35   ANTM   2840   3368943516      9567.799585\n",
       "447  MDKA   2830   3322535564      9402.775646\n",
       "49   ARTO  10000    914509585      9145.095850"
      ]
     },
     "execution_count": 144,
     "metadata": {},
     "output_type": "execute_result"
    }
   ],
   "source": [
    "add_amount(feb2021).head(n=10)"
   ]
  },
  {
   "cell_type": "markdown",
   "id": "b82b124a-de00-4985-8739-d2d8e87e71e2",
   "metadata": {},
   "source": [
    "### Data Processing Part 1 (Naive)\n",
    "\n",
    "For each month, we sum the amount of investments to get total investments. We print the summation into a list and observe the trend"
   ]
  },
  {
   "cell_type": "code",
   "execution_count": 145,
   "id": "b3d886b2-5cc5-4074-b3a6-2f940e946aa4",
   "metadata": {},
   "outputs": [],
   "source": [
    "l = [feb2021, mar2021, apr2021, may2021, jun2021, jul2021, aug2021, sep2021, oct2021, nov2021, dec2021, \n",
    "     jan2022, feb2022, mar2022, apr2022, may2022, jun2022, jul2022, aug2022, sep2022, oct2022, nov2022, dec2022]"
   ]
  },
  {
   "cell_type": "code",
   "execution_count": 147,
   "id": "3f784969-8cd6-41b9-80c2-6c90baf56f2a",
   "metadata": {},
   "outputs": [],
   "source": [
    "monthly_investment_sum = []\n",
    "for item in l:\n",
    "    s = add_amount(item)[\"Amount (Rp Bio)\"].sum()\n",
    "    monthly_investment_sum.append(s)"
   ]
  },
  {
   "cell_type": "code",
   "execution_count": 148,
   "id": "a4dc7a38-83cf-43d3-9ec4-98538edff9af",
   "metadata": {},
   "outputs": [
    {
     "data": {
      "text/plain": [
       "[561587.5008954221,\n",
       " 549746.327374742,\n",
       " 569916.3763313611,\n",
       " 584266.4777682811,\n",
       " 592144.752160166,\n",
       " 622118.8210745871,\n",
       " 618872.64931186,\n",
       " 637784.547811474,\n",
       " 649768.166890739,\n",
       " 666503.5642993579,\n",
       " 687932.0483769489,\n",
       " 695238.7195091002,\n",
       " 718098.347314852,\n",
       " 762451.783167713,\n",
       " 803715.518210612,\n",
       " 793125.846196156,\n",
       " 791157.1093279481,\n",
       " 811759.611500917,\n",
       " 808153.501185911,\n",
       " 784995.852210164,\n",
       " 816847.572284159,\n",
       " 858062.778591194,\n",
       " 1124245.4873289089]"
      ]
     },
     "execution_count": 148,
     "metadata": {},
     "output_type": "execute_result"
    }
   ],
   "source": [
    "monthly_investment_sum"
   ]
  },
  {
   "cell_type": "markdown",
   "id": "1814b5e7-f0ba-48a4-a7a8-eeb45bdd94e2",
   "metadata": {},
   "source": [
    "### Data Processing Part 2 (Detect Top Up / Withdraws)\n",
    "\n",
    "For each month, we identify topups and withdrawal for stocks by comparing it to the previous month."
   ]
  },
  {
   "cell_type": "code",
   "execution_count": 137,
   "id": "6bfd12d6-6e5c-4eb5-8943-d991b87f9f1e",
   "metadata": {},
   "outputs": [],
   "source": [
    "def topup_withdraw(df1, df2):\n",
    "    # create a dictionary of stock (key) to number of shares owned by retails (value)\n",
    "    df1_dict = dict(zip(list(add_amount(df1)[\"Code\"]), list(add_amount(df1)[\"Local ID\"])))\n",
    "    df2_dict = dict(zip(list(add_amount(df2)[\"Code\"]), list(add_amount(df2)[\"Local ID\"])))\n",
    "    \n",
    "    # TODO: identify all the stocks in df\n",
    "    topup = 0\n",
    "    stock_codes = list(df2[\"Code\"])\n",
    "    for s in stock_codes:\n",
    "        df1_num_shares = df1_dict.get(s, 0)\n",
    "        df2_num_shares = df2_dict.get(s, 0)\n",
    "        diff = df2_num_shares - df1_num_shares\n",
    "        if diff == 0:\n",
    "            continue\n",
    "        elif diff > 0:\n",
    "            # there is topup\n",
    "            # TODO: get share price of stock_code in df2\n",
    "            price = df2[df2[\"Code\"] == s][\"Price\"].iloc[0]\n",
    "            topup += price * diff\n",
    "            # print(f\"Topup for share {s}: {price * diff}\")\n",
    "        else:\n",
    "            # TODO: get share price of stock_code in df2  \n",
    "            price = df2[df2[\"Code\"] == s][\"Price\"].iloc[0]\n",
    "            topup -= price * diff\n",
    "            # print(f\"Withdraw for share {s}: {price * diff}\")\n",
    "    return topup"
   ]
  },
  {
   "cell_type": "code",
   "execution_count": 149,
   "id": "03de4ce9-74fc-44d7-bd83-16ca544aeb20",
   "metadata": {},
   "outputs": [],
   "source": [
    "periods = [\"mar2021\", \"apr2021\", \"may2021\", \"jun2021\", \"jul2021\", \"aug2021\", \"sep2021\", \"oct2021\", \"nov2021\", \"dec2021\",\n",
    "           \"jan2022\",\"feb2022\", \"mar2022\", \"apr2022\", \"may2022\", \"jun2022\", \"jul2022\", \"aug2022\", \"sep2022\", \"oct2022\", \"nov2022\", \"dec2022\"]\n",
    "index = 0\n",
    "topup_dict = {}\n",
    "for item in l:\n",
    "    if index + 1 == len(l):\n",
    "        break\n",
    "    period = periods[index]\n",
    "    val = topup_withdraw(l[index], l[index+1])\n",
    "    topup_dict[period] = val / 1e9\n",
    "    index += 1"
   ]
  },
  {
   "cell_type": "code",
   "execution_count": 151,
   "id": "c7f56eaa-137d-4602-9f5f-ff80514cac59",
   "metadata": {},
   "outputs": [],
   "source": [
    "i = 0\n",
    "index_val = 100\n",
    "indices = [index_val]\n",
    "for prev in monthly_investment_sum:\n",
    "    if len(monthly_investment_sum) == i + 1:\n",
    "        break\n",
    "        \n",
    "    period = periods[i]\n",
    "    topup = topup_dict[period]\n",
    "    curr = monthly_investment_sum[i+1]\n",
    "\n",
    "    # (curr - prev + topup) / (prev + topup)\n",
    "    pctg_increment = (curr - prev + topup) / (prev + topup)\n",
    "    index_val += pctg_increment\n",
    "    indices.append(index_val)\n",
    "    \n",
    "    i += 1"
   ]
  },
  {
   "cell_type": "code",
   "execution_count": 152,
   "id": "d59e1b01-9972-48e0-9310-b2e34d793885",
   "metadata": {},
   "outputs": [
    {
     "data": {
      "text/plain": [
       "[100,\n",
       " 100.01463789823772,\n",
       " 100.08611796230547,\n",
       " 100.17446695287062,\n",
       " 100.35939532519932,\n",
       " 100.44609727350313,\n",
       " 100.5026618274001,\n",
       " 100.58140292362525,\n",
       " 100.66909443588389,\n",
       " 100.73971420147885,\n",
       " 100.8095166275929,\n",
       " 100.85838295280753,\n",
       " 100.91327179658111,\n",
       " 101.01590168526168,\n",
       " 101.10623830790757,\n",
       " 101.12062069848683,\n",
       " 101.14963698139621,\n",
       " 101.20422402600938,\n",
       " 101.24238950882471,\n",
       " 101.23794313487501,\n",
       " 101.30844805773461,\n",
       " 101.39057441749726,\n",
       " 101.95584482992689]"
      ]
     },
     "execution_count": 152,
     "metadata": {},
     "output_type": "execute_result"
    }
   ],
   "source": [
    "indices"
   ]
  },
  {
   "cell_type": "markdown",
   "id": "7b66cc14-d2d9-462b-a0ce-6ec1521073d7",
   "metadata": {},
   "source": [
    "### Comparing Retail Performance vs Indonesian Market Growth\n",
    "\n",
    "Get idx growth data and compare it with retail performance"
   ]
  },
  {
   "cell_type": "code",
   "execution_count": 155,
   "id": "8c46ad7b-a672-4dac-a882-e5660d1e72ff",
   "metadata": {},
   "outputs": [],
   "source": [
    "import yahoo_fin.stock_info as si"
   ]
  },
  {
   "cell_type": "code",
   "execution_count": 185,
   "id": "f060744c-c844-465f-b119-88fbcc8ed58f",
   "metadata": {},
   "outputs": [],
   "source": [
    "dates = [\n",
    "    \"2021-02-26\",\n",
    "\"2021-03-31\",\n",
    "\"2021-04-30\",\n",
    "\"2021-05-31\",\n",
    "\"2021-06-30\",\n",
    "\"2021-07-30\",\n",
    "\"2021-08-31\",\n",
    "\"2021-09-30\",\n",
    "\"2021-10-29\",\n",
    "\"2021-11-30\",\n",
    "\"2021-12-30\",\n",
    "\"2022-01-31\",\n",
    "\"2022-02-25\",\n",
    "\"2022-03-31\",\n",
    "\"2022-04-28\",\n",
    "\"2022-05-31\",\n",
    "\"2022-06-30\",\n",
    "\"2022-07-29\",\n",
    "\"2022-08-31\",\n",
    "\"2022-09-30\",\n",
    "\"2022-10-31\",\n",
    "\"2022-11-30\",\n",
    "\"2022-12-30\"]"
   ]
  },
  {
   "cell_type": "code",
   "execution_count": 178,
   "id": "61558e14-a631-47dd-993a-21f8e64a6e60",
   "metadata": {},
   "outputs": [],
   "source": [
    "jkse = si.get_data(\"^JKSE\")"
   ]
  },
  {
   "cell_type": "code",
   "execution_count": 186,
   "id": "dd007fa9-c2fb-48c6-9b61-6dace89f3a0f",
   "metadata": {},
   "outputs": [],
   "source": [
    "jkse_prices = []\n",
    "for d in dates:\n",
    "    closing_price = jkse.loc[[d]][\"close\"].iloc[0]\n",
    "    jkse_prices.append(closing_price)"
   ]
  },
  {
   "cell_type": "code",
   "execution_count": 199,
   "id": "f29d2721-cfbd-4dce-97ab-b3962f111e66",
   "metadata": {},
   "outputs": [
    {
     "name": "stdout",
     "output_type": "stream",
     "text": [
      "0.09753975491891778\n"
     ]
    }
   ],
   "source": [
    "jkse_growth = (jkse_prices[22] - jkse_prices[0])/jkse_prices[0]\n",
    "print(jkse_growth)"
   ]
  },
  {
   "cell_type": "code",
   "execution_count": 200,
   "id": "6ad5ec3d-f0fd-4662-8f39-1930aa7a6436",
   "metadata": {},
   "outputs": [
    {
     "name": "stdout",
     "output_type": "stream",
     "text": [
      "0.01955844829926889\n"
     ]
    }
   ],
   "source": [
    "retail_growth = (indices[22] - indices[0])/indices[0]\n",
    "print(retail_growth)"
   ]
  },
  {
   "cell_type": "markdown",
   "id": "5c0b8239-1c90-494e-b872-935882ada21a",
   "metadata": {},
   "source": [
    "### Closing Remarks\n",
    "\n",
    "From this simple exercise, we have determined that growth of Indo index from early 2021 to end 2022 is _9.7%_ whereas the growth of retail investments is _1.9%_\n",
    "\n",
    "Retail investors' performance is 5x worse than that of the index!"
   ]
  },
  {
   "cell_type": "code",
   "execution_count": null,
   "id": "3a841a77-79e7-4f5e-89a6-957e1fc6e2b8",
   "metadata": {},
   "outputs": [],
   "source": []
  }
 ],
 "metadata": {
  "kernelspec": {
   "display_name": "Python 3 (ipykernel)",
   "language": "python",
   "name": "python3"
  },
  "language_info": {
   "codemirror_mode": {
    "name": "ipython",
    "version": 3
   },
   "file_extension": ".py",
   "mimetype": "text/x-python",
   "name": "python",
   "nbconvert_exporter": "python",
   "pygments_lexer": "ipython3",
   "version": "3.11.6"
  }
 },
 "nbformat": 4,
 "nbformat_minor": 5
}
